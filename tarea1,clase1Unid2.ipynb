{
  "nbformat": 4,
  "nbformat_minor": 0,
  "metadata": {
    "colab": {
      "provenance": [],
      "authorship_tag": "ABX9TyPINUSUdLCbFPxZvpYb+wMd",
      "include_colab_link": true
    },
    "kernelspec": {
      "name": "python3",
      "display_name": "Python 3"
    },
    "language_info": {
      "name": "python"
    }
  },
  "cells": [
    {
      "cell_type": "markdown",
      "metadata": {
        "id": "view-in-github",
        "colab_type": "text"
      },
      "source": [
        "<a href=\"https://colab.research.google.com/github/21Maryori/Uni2_Clase1/blob/main/tarea1%2Cclase1Unid2.ipynb\" target=\"_parent\"><img src=\"https://colab.research.google.com/assets/colab-badge.svg\" alt=\"Open In Colab\"/></a>"
      ]
    },
    {
      "cell_type": "code",
      "execution_count": 1,
      "metadata": {
        "id": "l5o5vqdFPgpx"
      },
      "outputs": [],
      "source": [
        "#Arreglamos la libreria numpy de python\n",
        "import numpy as np"
      ]
    },
    {
      "cell_type": "markdown",
      "source": [
        "**CREACION DE ARRAYS **"
      ],
      "metadata": {
        "id": "UJN_gO_cP-sD"
      }
    },
    {
      "cell_type": "code",
      "source": [
        "# 1.1 Crea un array unidimensional (vector) con 5 elementos enteros de tu elección.\n",
        "array_unidimensional = np.array([1, 2, 3, 4, 5])  # El array contiene los números del 1 al 5.\n",
        "print(\"Array unidimensional:\", array_unidimensional)"
      ],
      "metadata": {
        "colab": {
          "base_uri": "https://localhost:8080/"
        },
        "id": "HSVoYKbBUDoc",
        "outputId": "2884586c-2d16-4d27-9855-5b9f8a104158"
      },
      "execution_count": 10,
      "outputs": [
        {
          "output_type": "stream",
          "name": "stdout",
          "text": [
            "Array unidimensional: [1 2 3 4 5]\n"
          ]
        }
      ]
    },
    {
      "cell_type": "code",
      "source": [
        "# 1.2 Crea una matriz bidimensional (matriz) de tamaño 3x3 con valores enteros consecutivos.\n",
        "matriz_bidimensional = np.arange(1, 10).reshape(3, 3) #utilice la función reshape para darle forma de matriz 3x3.\n",
        "\n",
        "print(\"Matriz bidimensional:\")\n",
        "print(matriz_bidimensional)"
      ],
      "metadata": {
        "colab": {
          "base_uri": "https://localhost:8080/"
        },
        "id": "OSkXtt0IUH8V",
        "outputId": "46e554ea-b852-4317-bff2-3f7e442d9525"
      },
      "execution_count": 11,
      "outputs": [
        {
          "output_type": "stream",
          "name": "stdout",
          "text": [
            "Matriz bidimensional:\n",
            "[[1 2 3]\n",
            " [4 5 6]\n",
            " [7 8 9]]\n"
          ]
        }
      ]
    },
    {
      "cell_type": "code",
      "source": [
        "# 1.3 Utiliza la función np.zeros() para crear una matriz de tamaño 2x4 llena de ceros.\n",
        "matriz_zeros = np.zeros((2, 4))\n",
        "print(\"Matriz de ceros:\")\n",
        "print(matriz_zeros)"
      ],
      "metadata": {
        "colab": {
          "base_uri": "https://localhost:8080/"
        },
        "id": "SelEIhEFUMpa",
        "outputId": "7f506675-b575-465c-bee3-f905dc8d9fbd"
      },
      "execution_count": 12,
      "outputs": [
        {
          "output_type": "stream",
          "name": "stdout",
          "text": [
            "Matriz de ceros:\n",
            "[[0. 0. 0. 0.]\n",
            " [0. 0. 0. 0.]]\n"
          ]
        }
      ]
    },
    {
      "cell_type": "code",
      "source": [
        "# 1.4 Utiliza la función np.ones() para crear una matriz de tamaño 3x2 llena de unos.\n",
        "matriz_unos = np.ones((3, 2))\n",
        "print(\"Matriz de unos:\")\n",
        "print(matriz_unos)"
      ],
      "metadata": {
        "colab": {
          "base_uri": "https://localhost:8080/"
        },
        "id": "C0KQ3szgURNm",
        "outputId": "c4a4e999-9163-4e84-c221-d5c77e89630b"
      },
      "execution_count": 13,
      "outputs": [
        {
          "output_type": "stream",
          "name": "stdout",
          "text": [
            "Matriz de unos:\n",
            "[[1. 1.]\n",
            " [1. 1.]\n",
            " [1. 1.]]\n"
          ]
        }
      ]
    },
    {
      "cell_type": "code",
      "source": [
        "# 1.5 Utiliza la función np.random.randint() para crear una matriz de tamaño 4x4 con números enteros aleatorios entre 0 y 10.\n",
        "matriz_random = np.random.randint(0, 11, size=(4, 4))\n",
        "print(\"Matriz aleatoria:\")\n",
        "print(matriz_random)"
      ],
      "metadata": {
        "colab": {
          "base_uri": "https://localhost:8080/"
        },
        "id": "aiYsegdtUUge",
        "outputId": "3b9e89c2-fdf8-45c0-b04c-e5cabb5bd994"
      },
      "execution_count": 14,
      "outputs": [
        {
          "output_type": "stream",
          "name": "stdout",
          "text": [
            "Matriz aleatoria:\n",
            "[[ 8  1  3  9]\n",
            " [ 4  5  2 10]\n",
            " [ 3  7  2  0]\n",
            " [10  8 10  3]]\n"
          ]
        }
      ]
    },
    {
      "cell_type": "markdown",
      "source": [
        "**2.ACCESO A ELEMENTOS**"
      ],
      "metadata": {
        "id": "GTpbs6kwSkUd"
      }
    },
    {
      "cell_type": "code",
      "source": [
        "# Acceder al tercer elemento del vector creado en el paso 1.\n",
        "tercer_elemento = vector[2]\n",
        "print(\"Tercer elemento del vector:\", tercer_elemento)"
      ],
      "metadata": {
        "colab": {
          "base_uri": "https://localhost:8080/"
        },
        "id": "3csAQJDBSqzz",
        "outputId": "24aa6e15-6d48-475b-de66-c596a139e749"
      },
      "execution_count": 8,
      "outputs": [
        {
          "output_type": "stream",
          "name": "stdout",
          "text": [
            "Tercer elemento del vector: 3\n"
          ]
        }
      ]
    },
    {
      "cell_type": "code",
      "source": [
        "# 2.1 Accede al tercer elemento del vector creado en el paso 1.1.\n",
        "tercer_elemento = array_unidimensional[2]\n",
        "print(\"Tercer elemento del vector:\", tercer_elemento)"
      ],
      "metadata": {
        "colab": {
          "base_uri": "https://localhost:8080/"
        },
        "id": "yL9ImHl6UYrs",
        "outputId": "64462316-7c31-43a0-f013-764b46f2f4d0"
      },
      "execution_count": 15,
      "outputs": [
        {
          "output_type": "stream",
          "name": "stdout",
          "text": [
            "Tercer elemento del vector: 3\n"
          ]
        }
      ]
    },
    {
      "cell_type": "code",
      "source": [
        "# Acceder al elemento en la segunda fila y segunda columna de la matriz creada en el paso 2.\n",
        "elemento_2_2 = matriz[1, 1]\n",
        "print(\"\\nElemento en la segunda fila y segunda columna de la matriz:\")\n",
        "print(elemento_2_2)"
      ],
      "metadata": {
        "colab": {
          "base_uri": "https://localhost:8080/"
        },
        "id": "pf0PGL8rStTK",
        "outputId": "246f3d4b-cdf4-49b3-8f31-15fa75099ece"
      },
      "execution_count": 9,
      "outputs": [
        {
          "output_type": "stream",
          "name": "stdout",
          "text": [
            "\n",
            "Elemento en la segunda fila y segunda columna de la matriz:\n",
            "5\n"
          ]
        }
      ]
    },
    {
      "cell_type": "code",
      "source": [
        "# 2.2 Accede al elemento en la segunda fila y segunda columna de la matriz creada en el paso 1.2.\n",
        "elemento_2_2 = matriz_bidimensional[1, 1]\n",
        "print(\"Elemento en la segunda fila y segunda columna:\", elemento_2_2)"
      ],
      "metadata": {
        "colab": {
          "base_uri": "https://localhost:8080/"
        },
        "id": "MpNoslf8Uba8",
        "outputId": "f5778981-e47f-4f6b-9f63-57c93fce0d45"
      },
      "execution_count": 16,
      "outputs": [
        {
          "output_type": "stream",
          "name": "stdout",
          "text": [
            "Elemento en la segunda fila y segunda columna: 5\n"
          ]
        }
      ]
    },
    {
      "cell_type": "markdown",
      "source": [
        "**3.Propiedades de los Arrays**"
      ],
      "metadata": {
        "id": "AfHwnSVmVBz3"
      }
    },
    {
      "cell_type": "code",
      "source": [
        "# 3.1 Utiliza el atributo ndim para verificar la cantidad de dimensiones de la matriz creada en el paso 1.2.\n",
        "dimensiones_matriz = matriz_bidimensional.ndim\n",
        "print(\"Cantidad de dimensiones de la matriz:\", dimensiones_matriz)"
      ],
      "metadata": {
        "colab": {
          "base_uri": "https://localhost:8080/"
        },
        "id": "nTPaD0wnVHAg",
        "outputId": "6c8def5d-a65e-418b-d735-86ca0958ce6c"
      },
      "execution_count": 17,
      "outputs": [
        {
          "output_type": "stream",
          "name": "stdout",
          "text": [
            "Cantidad de dimensiones de la matriz: 2\n"
          ]
        }
      ]
    },
    {
      "cell_type": "code",
      "source": [
        "# 3.2 Utiliza el atributo shape para obtener la forma de la matriz creada en el paso 1.2.\n",
        "forma_matriz = matriz_bidimensional.shape\n",
        "print(\"Forma de la matriz:\", forma_matriz)"
      ],
      "metadata": {
        "colab": {
          "base_uri": "https://localhost:8080/"
        },
        "id": "AlYuQZgOVKuE",
        "outputId": "ae2103d9-ddd0-41f0-8d38-148c927fbd2e"
      },
      "execution_count": 18,
      "outputs": [
        {
          "output_type": "stream",
          "name": "stdout",
          "text": [
            "Forma de la matriz: (3, 3)\n"
          ]
        }
      ]
    },
    {
      "cell_type": "code",
      "source": [
        "# 3.3 Utiliza el atributo size para obtener el tamaño total de la matriz creada en el paso 1.2.\n",
        "tamaño_matriz = matriz_bidimensional.size\n",
        "print(\"Tamaño total de la matriz:\", tamaño_matriz)"
      ],
      "metadata": {
        "colab": {
          "base_uri": "https://localhost:8080/"
        },
        "id": "VU-rBOdDVNf7",
        "outputId": "fc5e6d48-0689-4908-8826-d104ac2ac0f8"
      },
      "execution_count": 19,
      "outputs": [
        {
          "output_type": "stream",
          "name": "stdout",
          "text": [
            "Tamaño total de la matriz: 9\n"
          ]
        }
      ]
    },
    {
      "cell_type": "markdown",
      "source": [
        "**4. Operaciones Basicas**"
      ],
      "metadata": {
        "id": "TeVGT5c9VjV9"
      }
    },
    {
      "cell_type": "code",
      "source": [
        "# Definir las matrices aleatorias\n",
        "matriz_2x2_1 = np.random.randint(0, 11, size=(2, 2))\n",
        "matriz_2x2_2 = np.random.randint(0, 11, size=(2, 2))\n",
        "\n",
        "# 4.1 Suma dos matrices de tamaño 2x2 con valores aleatorios entre 0 y 10.\n",
        "suma_matrices = matriz_2x2_1 + matriz_2x2_2\n",
        "print(\"Suma de matrices:\")\n",
        "print(suma_matrices)"
      ],
      "metadata": {
        "colab": {
          "base_uri": "https://localhost:8080/"
        },
        "id": "vJZ6F4KRW-IC",
        "outputId": "da3d0b2c-8bb9-4418-f4eb-8dd71636eb26"
      },
      "execution_count": 27,
      "outputs": [
        {
          "output_type": "stream",
          "name": "stdout",
          "text": [
            "Suma de matrices:\n",
            "[[ 9  8]\n",
            " [12 16]]\n"
          ]
        }
      ]
    },
    {
      "cell_type": "code",
      "source": [
        "# 4.2 Multiplica dos matrices de tamaño 3x2 y 2x3 respectivamente.\n",
        "matriz_3x2 = np.random.randint(0, 11, size=(3, 2))\n",
        "matriz_2x3 = np.random.randint(0, 11, size=(2, 3))\n",
        "producto_matrices = np.dot(matriz_3x2, matriz_2x3)\n",
        "print(\"Producto de matrices:\")\n",
        "print(producto_matrices)"
      ],
      "metadata": {
        "colab": {
          "base_uri": "https://localhost:8080/"
        },
        "id": "lO4NoEJ2XKr7",
        "outputId": "58d7f924-7c20-456e-cd75-b09e202186f5"
      },
      "execution_count": 28,
      "outputs": [
        {
          "output_type": "stream",
          "name": "stdout",
          "text": [
            "Producto de matrices:\n",
            "[[30  6 48]\n",
            " [35 31 64]\n",
            " [25 59 58]]\n"
          ]
        }
      ]
    },
    {
      "cell_type": "code",
      "source": [
        "# 4.3 Divide una matriz de tamaño 2x2 por otra matriz de tamaño 2x2, utilizando tanto la división por elementos como la multiplicación por la inversa.\n",
        "matriz_dividendo = np.random.randint(1, 11, size=(2, 2))  # Evitamos divisiones por cero\n",
        "matriz_divisor = np.random.randint(1, 11, size=(2, 2))\n",
        "\n",
        "# División por elementos\n",
        "division_elementos = matriz_dividendo / matriz_divisor\n",
        "print(\"División por elementos:\")\n",
        "print(division_elementos)"
      ],
      "metadata": {
        "colab": {
          "base_uri": "https://localhost:8080/"
        },
        "id": "Hfhnob5wXWWz",
        "outputId": "fab93850-e799-466d-a3f2-cf1a69fa432a"
      },
      "execution_count": 30,
      "outputs": [
        {
          "output_type": "stream",
          "name": "stdout",
          "text": [
            "División por elementos:\n",
            "[[10.   6. ]\n",
            " [ 0.7  1.2]]\n"
          ]
        }
      ]
    },
    {
      "cell_type": "code",
      "source": [
        "# Multiplicación por la inversa\n",
        "inversa_divisor = np.linalg.inv(matriz_divisor)\n",
        "division_inversa = np.dot(matriz_dividendo, inversa_divisor)\n",
        "print(\"División por inversa:\")\n",
        "print(division_inversa)"
      ],
      "metadata": {
        "colab": {
          "base_uri": "https://localhost:8080/"
        },
        "id": "mlUzEOQDXbgY",
        "outputId": "704cd016-cf2c-4dea-a494-5fcfc56fc635"
      },
      "execution_count": 31,
      "outputs": [
        {
          "output_type": "stream",
          "name": "stdout",
          "text": [
            "División por inversa:\n",
            "[[2.  0.8]\n",
            " [5.  0.2]]\n"
          ]
        }
      ]
    },
    {
      "cell_type": "markdown",
      "source": [
        "**5. Manipulacion de Arrays**"
      ],
      "metadata": {
        "id": "1gGQTnRSYiA0"
      }
    },
    {
      "cell_type": "code",
      "source": [
        "# 5.1 Utiliza la función reshape() para convertir el vector creado en el paso 1.2 en una matriz de tamaño 1x9.\n",
        "matriz_1x9 = matriz_bidimensional.reshape(1, 9)\n",
        "print(\"Matriz 1x9:\")\n",
        "print(matriz_1x9)"
      ],
      "metadata": {
        "colab": {
          "base_uri": "https://localhost:8080/"
        },
        "id": "FeadTEYgYnv8",
        "outputId": "974c61e8-e555-4955-cfff-12b766daed03"
      },
      "execution_count": 32,
      "outputs": [
        {
          "output_type": "stream",
          "name": "stdout",
          "text": [
            "Matriz 1x9:\n",
            "[[1 2 3 4 5 6 7 8 9]]\n"
          ]
        }
      ]
    },
    {
      "cell_type": "code",
      "source": [
        "# 5.2 Utiliza la función flatten() para convertir la matriz creada en el paso 1.2 en un vector unidimensional.\n",
        "vector_unidimensional = matriz_bidimensional.flatten()\n",
        "print(\"Vector unidimensional:\")\n",
        "print(vector_unidimensional)"
      ],
      "metadata": {
        "colab": {
          "base_uri": "https://localhost:8080/"
        },
        "id": "rdj8xh0TYvEi",
        "outputId": "c3c752cc-a355-4d6b-e7bd-65238ed6d482"
      },
      "execution_count": 33,
      "outputs": [
        {
          "output_type": "stream",
          "name": "stdout",
          "text": [
            "Vector unidimensional:\n",
            "[1 2 3 4 5 6 7 8 9]\n"
          ]
        }
      ]
    },
    {
      "cell_type": "markdown",
      "source": [
        "**6. Operaciones Estadísticas:**"
      ],
      "metadata": {
        "id": "9bzUFqJ4ZV_F"
      }
    },
    {
      "cell_type": "code",
      "source": [
        "# 6.1 Calcula la suma de todos los elementos de la matriz creada en el paso 1.2.\n",
        "suma_total = np.sum(matriz_bidimensional)\n",
        "print(\"Suma de todos los elementos de la matriz:\", suma_total)"
      ],
      "metadata": {
        "colab": {
          "base_uri": "https://localhost:8080/"
        },
        "id": "IjB3uNv3Zaq5",
        "outputId": "510e1324-8420-4a8d-dfdb-ae4635168c35"
      },
      "execution_count": 34,
      "outputs": [
        {
          "output_type": "stream",
          "name": "stdout",
          "text": [
            "Suma de todos los elementos de la matriz: 45\n"
          ]
        }
      ]
    },
    {
      "cell_type": "code",
      "source": [
        "# 6.2 Calcula la media de cada fila de la matriz creada en el paso 1.2.\n",
        "medias_filas = np.mean(matriz_bidimensional, axis=1)\n",
        "print(\"Media de cada fila de la matriz:\")\n",
        "print(medias_filas)"
      ],
      "metadata": {
        "colab": {
          "base_uri": "https://localhost:8080/"
        },
        "id": "TaaZ9tz3Z4f9",
        "outputId": "6c56da3d-07d6-4d68-9240-d639b031f238"
      },
      "execution_count": 35,
      "outputs": [
        {
          "output_type": "stream",
          "name": "stdout",
          "text": [
            "Media de cada fila de la matriz:\n",
            "[2. 5. 8.]\n"
          ]
        }
      ]
    },
    {
      "cell_type": "markdown",
      "source": [
        "**7. Indexación y Rebanado**"
      ],
      "metadata": {
        "id": "iEnNNjG4aMvm"
      }
    },
    {
      "cell_type": "code",
      "source": [
        "# 7.3 Imprime la primera fila de la matriz creada en el paso 1.2.\n",
        "primera_fila = matriz_bidimensional[0]\n",
        "print(\"Primera fila de la matriz:\")\n",
        "print(primera_fila)"
      ],
      "metadata": {
        "colab": {
          "base_uri": "https://localhost:8080/"
        },
        "id": "aPe1rM7haXzW",
        "outputId": "24fdfc54-a083-464c-f6f8-eabbd25072ad"
      },
      "execution_count": 36,
      "outputs": [
        {
          "output_type": "stream",
          "name": "stdout",
          "text": [
            "Primera fila de la matriz:\n",
            "[1 2 3]\n"
          ]
        }
      ]
    },
    {
      "cell_type": "code",
      "source": [
        "# 7.4 Imprime las primeras dos columnas de la matriz creada en el paso 1.2.\n",
        "primeras_dos_columnas = matriz_bidimensional[:, :2]\n",
        "print(\"Primeras dos columnas de la matriz:\")\n",
        "print(primeras_dos_columnas)"
      ],
      "metadata": {
        "colab": {
          "base_uri": "https://localhost:8080/"
        },
        "id": "1Sd-Psg9afyC",
        "outputId": "fcecfd4a-9f96-4fc5-b2e1-10c0114a3b60"
      },
      "execution_count": 37,
      "outputs": [
        {
          "output_type": "stream",
          "name": "stdout",
          "text": [
            "Primeras dos columnas de la matriz:\n",
            "[[1 2]\n",
            " [4 5]\n",
            " [7 8]]\n"
          ]
        }
      ]
    },
    {
      "cell_type": "markdown",
      "source": [
        "**8. Ejecicio Adicional**"
      ],
      "metadata": {
        "id": "3R2GBs_Wa5ju"
      }
    },
    {
      "cell_type": "code",
      "source": [
        "# Define una matriz de tamaño 4x4 con valores aleatorios\n",
        "matriz_4x4 = np.random.randint(0, 101, size=(4, 4))  # Valores aleatorios entre 0 y 100\n",
        "print(\"Matriz 4x4:\")\n",
        "print(matriz_4x4)"
      ],
      "metadata": {
        "colab": {
          "base_uri": "https://localhost:8080/"
        },
        "id": "_96QO65Ga-YN",
        "outputId": "a59e802c-b086-4676-b1ab-819bea01c2fc"
      },
      "execution_count": 38,
      "outputs": [
        {
          "output_type": "stream",
          "name": "stdout",
          "text": [
            "Matriz 4x4:\n",
            "[[41 54  1 53]\n",
            " [80  0 39 92]\n",
            " [24 22 94 11]\n",
            " [ 9 45 45 15]]\n"
          ]
        }
      ]
    },
    {
      "cell_type": "code",
      "source": [
        "# Encuentra el valor máximo y su posición\n",
        "maximo_valor = np.max(matriz_4x4)\n",
        "posicion_maximo = np.unravel_index(np.argmax(matriz_4x4), matriz_4x4.shape)\n",
        "# Encuentra el valor mínimo y su posición\n",
        "minimo_valor = np.min(matriz_4x4)\n",
        "posicion_minimo = np.unravel_index(np.argmin(matriz_4x4), matriz_4x4.shape)\n",
        "\n",
        "print(\"\\nValor máximo:\", maximo_valor)\n",
        "print(\"Posición del valor máximo:\", posicion_maximo)\n",
        "print(\"\\nValor mínimo:\", minimo_valor)\n",
        "print(\"Posición del valor mínimo:\", posicion_minimo)"
      ],
      "metadata": {
        "colab": {
          "base_uri": "https://localhost:8080/"
        },
        "id": "pOiKI2ZqbB09",
        "outputId": "082f5be5-3123-4ad2-c6d9-1f1800876538"
      },
      "execution_count": 41,
      "outputs": [
        {
          "output_type": "stream",
          "name": "stdout",
          "text": [
            "\n",
            "Valor máximo: 94\n",
            "Posición del valor máximo: (2, 2)\n",
            "\n",
            "Valor mínimo: 0\n",
            "Posición del valor mínimo: (1, 1)\n"
          ]
        }
      ]
    }
  ]
}